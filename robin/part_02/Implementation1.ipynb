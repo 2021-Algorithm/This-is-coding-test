{
  "nbformat": 4,
  "nbformat_minor": 0,
  "metadata": {
    "colab": {
      "name": "Implementation1.ipynb",
      "provenance": [],
      "toc_visible": true,
      "authorship_tag": "ABX9TyPs0JEiGEcNJyit8W+RKDr/",
      "include_colab_link": true
    },
    "kernelspec": {
      "name": "python3",
      "display_name": "Python 3"
    },
    "language_info": {
      "name": "python"
    }
  },
  "cells": [
    {
      "cell_type": "markdown",
      "metadata": {
        "id": "view-in-github",
        "colab_type": "text"
      },
      "source": [
        "<a href=\"https://colab.research.google.com/github/malaheaven/This-is-coding-test/blob/study3/robin/part_02/Implementation1.ipynb\" target=\"_parent\"><img src=\"https://colab.research.google.com/assets/colab-badge.svg\" alt=\"Open In Colab\"/></a>"
      ]
    },
    {
      "cell_type": "markdown",
      "metadata": {
        "id": "-v-I-NJcKjNe"
      },
      "source": [
        "출처 - 이것이 코딩 테스트다(한빛미디어, 나동빈)\n",
        "\n",
        "# 구현\n",
        "\n",
        "`머릿속에 있는 알고리즘을 소스코드로 바꾸는 과정`\n",
        "\n",
        "완전 탐색 = `모든 경우의 수를 주저 없이 다 계산하는 해결 방법`\n",
        "시뮬레이션 = `문제에서 제시한 알고리즘을 한 단계씩 차례대로 직접 수행`"
      ]
    },
    {
      "cell_type": "markdown",
      "metadata": {
        "id": "59bljW8SN-Pl"
      },
      "source": [
        "## [예제 4-1] 상하좌우\n",
        "\n",
        "여행가 A는 N * N 크기의 정사각형 공간 위에 서 있다. 이 공간은 1 * 1 크기의 정사각형으로 나누어져 있다. 가장 왼쪽 위 좌표는 (1,1)이며, 가장 오른쪽 아래 좌표는 (N,N)에 해당한다. 여행가 A는 상, 하, 좌, 우 (U, D, L, R) 방향으로 이동할 수 있으며, 시작 좌표는 항상 (1,1)이다. 우리 앞에는 여행가 A가 이동할 계획이 적힌 계획서가 놓여있다.\n",
        "\n",
        "\n",
        "입력 예시:\n",
        "\n",
        "5\n",
        "\n",
        "R R R U D D\n",
        "\n",
        "result = 3 4\n",
        "\n"
      ]
    },
    {
      "cell_type": "markdown",
      "metadata": {
        "id": "JsoupF9DPGqE"
      },
      "source": [
        "###### 내가 생각한 답"
      ]
    },
    {
      "cell_type": "code",
      "metadata": {
        "colab": {
          "base_uri": "https://localhost:8080/"
        },
        "id": "QUok97SQPKf-",
        "outputId": "78afa085-8eee-4f39-8388-e7a4440b479a"
      },
      "source": [
        "n = int(input())\n",
        "move = list(map(str, input().split(\" \")))\n",
        "\n",
        "position = [1, 1]\n",
        "\n",
        "for i in move:\n",
        "\n",
        "    if i == \"U\":\n",
        "\n",
        "        if position[0] != 1:\n",
        "            position[0] -= 1\n",
        "\n",
        "    if i == \"D\":\n",
        "\n",
        "        if position[0] != n:\n",
        "            position[0] += 1\n",
        "\n",
        "    if i == \"R\":\n",
        "\n",
        "        if position[1] != n:\n",
        "            position[1] += 1\n",
        "\n",
        "    if i == \"L\":\n",
        "\n",
        "        if position[1] != 1:\n",
        "            position[1] -= 1\n",
        "\n",
        "print(position)"
      ],
      "execution_count": 24,
      "outputs": [
        {
          "output_type": "stream",
          "text": [
            "5\n",
            "R R R U D D\n",
            "[3, 4]\n"
          ],
          "name": "stdout"
        }
      ]
    },
    {
      "cell_type": "markdown",
      "metadata": {
        "id": "aYKs0zo5PLgW"
      },
      "source": [
        "###### 문제 해설"
      ]
    },
    {
      "cell_type": "code",
      "metadata": {
        "colab": {
          "base_uri": "https://localhost:8080/"
        },
        "id": "QBaGtcNWPPef",
        "outputId": "d05caf0f-1266-473e-e07f-1e4d0e06a98a"
      },
      "source": [
        "# N 입력받기\n",
        "n = int(input())\n",
        "x, y = 1, 1\n",
        "plans = input().split()\n",
        "\n",
        "# L, R, U, D에 따른 이동 방향\n",
        "dx = [0, 0, -1, 1]\n",
        "dy = [-1, 1, 0, 0]\n",
        "move_types = ['L', 'R', 'U', 'D']\n",
        "\n",
        "# 이동 계획을 하나씩 확인\n",
        "for plan in plans:\n",
        "    # 이동 후 좌표 구하기\n",
        "    for i in range(len(move_types)):\n",
        "        if plan == move_types[i]:\n",
        "            nx = x + dx[i]\n",
        "            ny = y + dy[i]\n",
        "    # 공간을 벗어나는 경우 무시\n",
        "    if nx < 1 or ny < 1 or nx > n or ny > n:\n",
        "        continue\n",
        "    # 이동 수행\n",
        "    x, y = nx, ny\n",
        "\n",
        "print(x, y)"
      ],
      "execution_count": 23,
      "outputs": [
        {
          "output_type": "stream",
          "text": [
            "5\n",
            "R R R U D D\n",
            "3 4\n"
          ],
          "name": "stdout"
        }
      ]
    },
    {
      "cell_type": "markdown",
      "metadata": {
        "id": "G8M2nQ4LPP_-"
      },
      "source": [
        "## [예제 4-2] 시각\n",
        "\n",
        "정수 N이 입력되면 00시 00분 00초 부터 N이 59분 59초까지의 모든 시각 중에서 3이 하나라도 포함되는 모든 경우의 수를 구하는 프로그램을 작성하시오 예를 들어 1을 입력했을 때 다음은 3이 하나라도 포함되어 있으므로 새어야 하는 시각이다.\n",
        "\n",
        "입력 예시:\n",
        "\n",
        "5\n",
        "\n",
        "result = 11475"
      ]
    },
    {
      "cell_type": "markdown",
      "metadata": {
        "id": "xt1GFlo2PqRX"
      },
      "source": [
        "###### 문제 해설"
      ]
    },
    {
      "cell_type": "code",
      "metadata": {
        "id": "Q4m9-BghPuHs"
      },
      "source": [
        "h = int(input())\n",
        "\n",
        "count = 0\n",
        "\n",
        "for hour in range(h + 1):\n",
        "    for minute in range(60):\n",
        "        for second in range(60):\n",
        "            if '3' in (str(hour) + str(minute) + str(second)):\n",
        "                count += 1\n",
        "\n",
        "print(count) "
      ],
      "execution_count": null,
      "outputs": []
    },
    {
      "cell_type": "markdown",
      "metadata": {
        "id": "anDdRV9OPvFq"
      },
      "source": [
        "## [실전 문제] 왕실의 나이트\n",
        "\n",
        "행복 왕국의 왕실 정원은 체스판과 같은 8 * 8 좌표 평면이다. 왕실 정원의 특정한 한 칸에 나이트가 서 있다. 나이트는 매우 충성스러운 신하로서 매일 무슬을 연마한다.\n",
        "나이트는 말을 타고 있기 때문에 이동을 할 때는 L자 형태로만 이동할 수 있으며 정원 밖으로는 나갈 수 없다. 나이트는 특정한 위치에서 다음과 같은 2가지 경우로 이동할 수 있다.\n",
        "\n",
        "    1. 수평으로 두 칸 이동한 뒤에 수직으로 한 칸 이동하기\n",
        "    2. 수직으로 두 칸 이동한 뒤에 수평으로 한 칸 이동하기\n",
        "\n",
        "이처럼 8 * 8 좌표 평면상에서 나이트의 위치가 주어졌을 때 나이트가 이동할 수 있는 경우의 수를 출력하는 프로그램을 작성하시오. 이때 왕실의 정원에서 행 위치를 표현할 때는 1부터 8로 표현하며, 열 위치를 표현할 때는 a부터 h로 표현한다.\n",
        "\n",
        "입력 예시:\n",
        "\n",
        "a1\n",
        "\n",
        "result = 2"
      ]
    },
    {
      "cell_type": "markdown",
      "metadata": {
        "id": "_Dd_tjnoQzHI"
      },
      "source": [
        "###### 문제 해설"
      ]
    },
    {
      "cell_type": "code",
      "metadata": {
        "colab": {
          "base_uri": "https://localhost:8080/"
        },
        "id": "t5JLF-kBQ3gq",
        "outputId": "873e5587-e1c3-44e7-d4dc-f92724fef2e0"
      },
      "source": [
        "# 현재 나이트의 위치 입력받기\n",
        "input_data = input()\n",
        "row = int(input_data[1])\n",
        "column = int(ord(input_data[0])) - int(ord('a')) + 1\n",
        "\n",
        "\n",
        "# 나이트가 이동할 수 있는 8가지 방향 정의\n",
        "steps = [(-2, -1), (-1, -2), (1, -2), (2, -1), (2, 1), (1, 2), (-1, 2), (-2, 1)]\n",
        "\n",
        "# 8가지 방향에 대하여 각 위치로 이동이 가능한지 확인\n",
        "result = 0\n",
        "for step in steps:\n",
        "    # 이동하고자 하는 위치 확인\n",
        "    next_row = row + step[0]\n",
        "    next_column = column + step[1]\n",
        "    # 해당 위치로 이동이 가능하다면 카운트 증가\n",
        "    if next_row >= 1 and next_row <= 8 and next_column >= 1 and next_column <= 8:\n",
        "        result += 1\n",
        "\n",
        "print(result)"
      ],
      "execution_count": 29,
      "outputs": [
        {
          "output_type": "stream",
          "text": [
            "a1\n",
            "2\n"
          ],
          "name": "stdout"
        }
      ]
    }
  ]
}