{
  "nbformat": 4,
  "nbformat_minor": 0,
  "metadata": {
    "colab": {
      "name": "Sorting.ipynb",
      "provenance": [],
      "collapsed_sections": [],
      "toc_visible": true,
      "authorship_tag": "ABX9TyO87ldyrVqY6yDj2ytU8ZL+",
      "include_colab_link": true
    },
    "kernelspec": {
      "name": "python3",
      "display_name": "Python 3"
    },
    "language_info": {
      "name": "python"
    }
  },
  "cells": [
    {
      "cell_type": "markdown",
      "metadata": {
        "id": "view-in-github",
        "colab_type": "text"
      },
      "source": [
        "<a href=\"https://colab.research.google.com/github/malaheaven/This-is-coding-test/blob/study6/robin/part_02/Sorting.ipynb\" target=\"_parent\"><img src=\"https://colab.research.google.com/assets/colab-badge.svg\" alt=\"Open In Colab\"/></a>"
      ]
    },
    {
      "cell_type": "markdown",
      "metadata": {
        "id": "VKO2wJDWHxp8"
      },
      "source": [
        "출처: 이것이 코딩테스트다(한빛미디어, 나동빈)\n",
        "\n",
        "# 정렬(Sorting)\n",
        "\n",
        "정렬이란 `데이터를 특정한 기준에 따라서 순서대로 나열하는 것`"
      ]
    },
    {
      "cell_type": "markdown",
      "metadata": {
        "id": "z8uphLqbI54w"
      },
      "source": [
        "## 선택 정렬(Selection Sort)\n",
        "\n",
        "데이터가 무작위로 여러 개 있을 때, 이 중에서 가장 작은 데이터를 선택해 맨 앞에 있는 데이터와 바꾸고, 그다음 작은 데이터를 선택해 앞에서 두 번째 데이터와 바꾸는 과정을 반복하는 방법. \n",
        "\n",
        "매번 `가장 작은 것을 선택`한다는 의미에서 선택 정렬(Selection Sort) 알고리즘이라고 한다."
      ]
    },
    {
      "cell_type": "code",
      "metadata": {
        "colab": {
          "base_uri": "https://localhost:8080/"
        },
        "id": "NN5c2_9oKFUt",
        "outputId": "c3ddae7a-6be8-4dbf-96c2-d9b5e45c6ead"
      },
      "source": [
        "array = [7, 5, 9, 0, 3, 1, 6, 2, 4, 8]\n",
        "\n",
        "for i in range(len(array)):\n",
        "    min_index = i\n",
        "\n",
        "    for j in range(i+1, len(array)):\n",
        "        if array[min_index] > array[j]:\n",
        "            min_index = j\n",
        "\n",
        "    array[i], array[min_index] = array[min_index], array[i] #스와프\n",
        "\n",
        "print(array)\n",
        "\n",
        "'''\n",
        "스와프란 특정한 리스트가 주어졌을 때 두 변수의 위치를 변경하는 작업을 의미한다.\n",
        "'''"
      ],
      "execution_count": null,
      "outputs": [
        {
          "output_type": "stream",
          "text": [
            "[0, 1, 2, 3, 4, 5, 6, 7, 8, 9]\n"
          ],
          "name": "stdout"
        }
      ]
    },
    {
      "cell_type": "markdown",
      "metadata": {
        "id": "3naovTG7Kx0i"
      },
      "source": [
        "### 선택 정렬의 시간 복잡도\n",
        "\n",
        "선택 정렬은 N-1번 만큼 가장 작은 수를 찾아서 맨 앞으로 보내야한다. 또한 매번 가장 작은 수를 찾기 위해서 비교 연산이 필요하다. 구현 방식에 따라서 사소한 오차는 있을 수 있지만 연산 횟수는 `N + (N - 1) + (N - 2) + ... + 2` 로 볼 수 있다. 따라서 근사치로 `N * (N + 1) / 2`번의 연산을 수행한다고 가정하자. 이는 `(N² + N) / 2` 로 표현할 수 있는데, 빅오 표기법으로 간단히 `O(N²)` 이라고 표현할 수 있다.\n",
        "\n",
        "\n",
        "직관적으로 이해하자면, 소스코드 상으로 간단한 형태의 2중 반복문이 사용되었기 때문이라고 이해할 수 있다."
      ]
    },
    {
      "cell_type": "markdown",
      "metadata": {
        "id": "AHXynyNAXTJz"
      },
      "source": [
        "## 삽입 정렬(Insert Sort)\n",
        "\n",
        "삽입 정렬은 특정한 데이터를 적절한 위치에 '삽입'한다는 의미에서 `삽입 정렬(Insert Sort)`이라고 부른다. 더불어 삽입 정렬은 특정한 데이터가 적절한 위치에 들어가기 이전에, 그 앞까지의 데이터는 이미 정렬되어 있다고 가정한다. 정렬되어 있는 데이터 리스트에서 적절한 위치를 찾은 뒤에, 그 위치에 삽입된다는 점이 특징이다. 삽입 정렬은 두 번째 데이터부터 시작한다. 왜냐하면 첫 번째 데이터는 그 자체로 정렬되어 있다고 판단하기 때문이다."
      ]
    },
    {
      "cell_type": "code",
      "metadata": {
        "id": "G7UpQTQxarcU",
        "colab": {
          "base_uri": "https://localhost:8080/"
        },
        "outputId": "c2e08a5f-3a15-4cb5-d838-24ff73ab9dd1"
      },
      "source": [
        "array = [7, 5, 9, 0, 3, 1, 6, 2, 4, 8]\n",
        "\n",
        "for i in range(1, len(array)):\n",
        "    for j in range(i, 0, -1): # 인덱스 i부터 1까지 감소하며 반복하는 문법\n",
        "        if array[j] < array[j - 1]:\n",
        "            array[j], array[j - 1] = array[j - 1], array[j]\n",
        "        else: # 자기 보다 작은 데이터를 만나면 그 위치에서 멈춤\n",
        "            break\n",
        "\n",
        "print(array)"
      ],
      "execution_count": null,
      "outputs": [
        {
          "output_type": "stream",
          "text": [
            "[0, 1, 2, 3, 4, 5, 6, 7, 8, 9]\n"
          ],
          "name": "stdout"
        }
      ]
    },
    {
      "cell_type": "markdown",
      "metadata": {
        "id": "ikqSgVYxZ0Jc"
      },
      "source": [
        "### 삽입 정렬의 시간 복잡도\n",
        "\n",
        "삽입 정렬의 시간 복잡도는 `O(N²)`인데, 선택 정렬과 마찬가지로 반복문이 2번 중첩되어 사용되었다. 실제로 수행 시간을 테스트해보면 앞서 다루었던 선택 정렬과 흡사한 시간이 소요되는 것을 알 수 있다. 여기서 꼭 기억할 내용은 삽입 정렬은 현재 리스트의 데이터가 거의 정렬되어 있는 상태라면 매우 빠르게 동작한다는 점이다. 최선의 경우 `O(N²)`의 시간 복잡도를 가진다. \n",
        "\n",
        "퀵 정렬 알고리즘과 비교했을 때, 보통은 삽입 정렬이 비효율적이나 정렬이 거의 되어 있는 상황에서는 퀵 정렬 알고리즘보다 더 강력하다. 따라서 거의 정렬되어 있는 상태로 입력이 주어지는 문제라면 퀵 정렬등의 여타 정렬 알고리즘을 이용하는 것보다 삽입 정렬을 이용하는 것이 정답 확률을 높일 수 있다."
      ]
    },
    {
      "cell_type": "markdown",
      "metadata": {
        "id": "3FheUC3hbb4g"
      },
      "source": [
        "## 퀵 정렬(Quick Sorting)\n",
        "\n",
        "`퀵 정렬은 기준을 설정한 다음 큰 수와 작은 수를 교환환 후 리스트를 반으로 나누는 방식으로 동작`한다. 이해하기까지 시간이 걸리겠지만 원리를 이해하면 병합 정렬, 힙 정렬 등 다른 고급 정렬 기법에 비해 쉽게 소스 코드를 작성할 수 있다.\n",
        "\n",
        "* 병합 정렬: 퀵 정렬과 비교할 만큼 빠른 알고리즘. 퀵 정렬과 병합 정렬 이 두 알고리즘은 대부분의 프로그래밍 언어에서 정렬 라이브러리의 근간이 되는 알고리즘이기도 하다. \n",
        "\n",
        "퀵 정렬에서는 피벗(Pivot)이 사용된다. 퀵 정렬을 수행하기 전에는 피벗을 어떻게 설정할 것인지 미리 명시해야 한다. 피벗을 설정하고 리스트를 분할하는 방법에 따라서 여러 가지 방식으로 퀵 정렬을 구분하는데, 책에서는 가장 대표적인 분할 방식인 호어 분할(Hoare Partition)방식을 기준으로 퀵 정렬을 설명한다.\n",
        "\n",
        "* 피벗(Pivot): 큰 숫자와 작은 숫자를 교환할 때, 교환하기 위한 '기준'\n",
        "* 호어 분할(Hoare Partition): 리스트에서 첫 번째 데이터를 피벗으로 정한다.\n",
        "\n",
        "리스트에서 첫 번째 데이터를 피벗으로 설정한 뒤에는 왼쪽에서 피벗보다 큰 데이터를 찾고, 오른쪽에서부터 피벗보다 작은 데이터를 찾는다. 그다음 큰 데이터와 작은 데이터의 위치를 서로 교환해준다. 이러한 과정을 반복하면 '피벗'에 대하여 정렬이 수행된다. \n",
        "\n",
        "\n"
      ]
    },
    {
      "cell_type": "code",
      "metadata": {
        "colab": {
          "base_uri": "https://localhost:8080/"
        },
        "id": "6cbABAsqRtGi",
        "outputId": "bedcecdf-4a41-4a0f-fb3d-607a1c3b121b"
      },
      "source": [
        "array = [5, 7, 9, 0, 3, 1, 6, 2, 4, 8]\n",
        "\n",
        "def quick_sort(array, start, end):\n",
        "    if start >= end: # 원소가 1개인 경우 종료\n",
        "        return\n",
        "\n",
        "    pivot = start #피벗은 첫 번째 원소\n",
        "    left = start + 1\n",
        "    right = end\n",
        "\n",
        "    while left <= right:\n",
        "        # 피벗보다 큰 데이터를 찾을 때까지 반복\n",
        "        while left <= end and array[left] <= array[pivot]:\n",
        "            left += 1\n",
        "\n",
        "        #피벗보다 작은 데이터를 찾을 때까지 반복\n",
        "        while right > start and array[right] >= array[pivot]:\n",
        "            right -= 1\n",
        "        \n",
        "        if left > right: # 엇갈렸다면 작은 데이터와 피벗을 교ㅔ\n",
        "            array[right], array[pivot] = array[pivot], array[right]\n",
        "        else: # 엇갈리지 않았다면 작은 데이터와 큰 데이터를 교체\n",
        "            array[left], array[right] = array[right], array[left]\n",
        "\n",
        "    # 분할 이후 왼쪽 부분과 오른쪽 부분에서 각각 정렬 수행\n",
        "    quick_sort(array, start, right - 1)\n",
        "    quick_sort(array, right + 1, end)\n",
        "\n",
        "quick_sort(array, 0, len(array) - 1)\n",
        "print(array)"
      ],
      "execution_count": null,
      "outputs": [
        {
          "output_type": "stream",
          "text": [
            "[0, 1, 2, 3, 4, 5, 6, 7, 8, 9]\n"
          ],
          "name": "stdout"
        }
      ]
    },
    {
      "cell_type": "code",
      "metadata": {
        "colab": {
          "base_uri": "https://localhost:8080/"
        },
        "id": "QcjFSWRWU3yc",
        "outputId": "d0b529f8-3abb-4929-df9e-a3068be8be33"
      },
      "source": [
        "array = [5, 7, 9, 0, 3, 1, 6, 2, 4, 8]\n",
        "\n",
        "def quick_sort(array):\n",
        "    # 리스트가 하나 이하의 원소만을 담고 있다면 종료\n",
        "    if len(array) <= 1:\n",
        "        return array\n",
        "\n",
        "    pivot = array[0] # 피벗은 첫 번째 원소\n",
        "    tail = array[1:] # 피벗을 제외한 리스트\n",
        "\n",
        "    left_side = [x for x in tail if x <= pivot] # 분할된 왼쪽 부분\n",
        "    right_side = [x for x in tail if x > pivot] # 분할된 오른쪽 부분\n",
        "\n",
        "    # 분할 이후 왼쪽 부분과 오른쪽 부분에서 각각 정렬을 수행하고, 전체 리스트를 반환\n",
        "    return quick_sort(left_side) + [pivot] + quick_sort(right_side)\n",
        "\n",
        "print(quick_sort(array))"
      ],
      "execution_count": null,
      "outputs": [
        {
          "output_type": "stream",
          "text": [
            "[0, 1, 2, 3, 4, 5, 6, 7, 8, 9]\n"
          ],
          "name": "stdout"
        }
      ]
    },
    {
      "cell_type": "markdown",
      "metadata": {
        "id": "G6DGR0rWUluC"
      },
      "source": [
        "### 퀵 정렬의 시간 복잡도\n",
        "\n",
        "퀵 정렬의 평균 시간 복잡도는 `O(NlogN)`이다. 다만, 퀵 정렬의 시간 복잡도에 대하여 한 가지 기억해둘 점이 있다. 바로 평균적으로 시간 복잡도가 `O(NlogN)`이지만 최악의 경우 시간 복잡도가 `O(N²)`이라는 것이다. 데이터가 무작위로 입력되는 경우 퀵 정렬은 빠르게 동작할 확률이 높다. "
      ]
    },
    {
      "cell_type": "markdown",
      "metadata": {
        "id": "hDcCTmHoa7cO"
      },
      "source": [
        "## 계수 정렬(Count Sort)\n",
        "\n",
        "`특정한 조건이 부합할 때만 사용할 수 있지만 매우 빠른 정렬 알고리즘`이다. 모든 데이터가 양의 정수인 상황을 가정하면, 데이터의 개수가 N, 데이터 중 최댓값이 K일 때, 계수 정렬은 최악의 경우에도 수행시간 `O(N + K)`를 보장한다. 계수 정렬은 매우 빠르게 동작할 뿐만 아니라 원리 또한 매우 간단하다. 계수 정렬은 일반적으로 별도의 리스트를 선언하고 그 안에 정렬에 대한 정보를 담는다는 특징이 있다. \n",
        "<BR>\n",
        "<BR>\n",
        "<BR>\n",
        "* 주의점 : 계수 정렬은 데이터의 크기 범위가 제한되어 정수 형태로 표현할 수 있을 때 만 사용할 수 있다.\n",
        "<BR>\n",
        "예) 데이터의 값이 무한한 범위를 가질 수 있는 실수형 데이터가 주어지는 경우 계수 정렬은 사용하기가 어렵다. 일반적으로 가장 큰 데이터와 가장 작은 데이터가의 차이가 1,000,000을 넘지 않을 때 효과적으로 사용할 수 있다.\n",
        "<BR>\n",
        "<BR>\n",
        "\n",
        "예를 들어 0 이상 100 이하인 성적 데이터를 정렬할 때 계수 정렬이 효과적이다. 다만 큰 데이터와 가장 작은 데이터의 차이가 너무 크다면 계수 정렬은 사용할 수 없다. 계수 정렬이 이러한 특징을 가지는 이유는, 계수 정렬을 이용할 때는 `모든 범위를 담을 수 있는 크기의 리스트(배열)를 선언` 해야 하기 때문이다. 예를 들어 가장 큰 데이터와 가장 작은 데이터의 차이가 1,000,000이라면 총 1,000,001개의 데이터가 들어갈 수 있는 리스트를 초기화해야 한다. 여기에서 1개를 더해주는 이유는 0부터 1,000,000까지는 총 1,000,001개의 수가 존재하기 때문이다.\n",
        "<BR>\n",
        "<BR>\n",
        "계수 정렬은 앞서 다루었던 3가지 정렬 알고리즘처럼 직접 데이터의 값을 비교한 뒤에 위치를 변경하며 정렬하는 방식(비교 기반의 정렬 알고리즘이 아니다.\n",
        "\n",
        "* 선택 정렬, 삽입 정렬, 퀵 정렬처럼 데이터를 비교하며 위치를 변경하는 정렬 방법을 비교 기반의 정렬 알고리즘이라고도 부른다.\n",
        "\n",
        "\n",
        "\n",
        "\n",
        "\n",
        "\n",
        "\n"
      ]
    },
    {
      "cell_type": "code",
      "metadata": {
        "colab": {
          "base_uri": "https://localhost:8080/"
        },
        "id": "0IZOH9KLUMjS",
        "outputId": "e7c4c23c-630b-4dae-ec4c-f0d61b90b34e"
      },
      "source": [
        "# 모든 원소의 값이 0보다 크거나 같다고 가정\n",
        "array = [7, 5, 9, 0, 3, 1, 6, 2, 9, 1, 4, 8, 0, 5, 2]\n",
        "\n",
        "# 모든 범위를 포함하는 리스트 선언(모든 값은 0으로 초기화)\n",
        "count = [0] * (max(array) + 1)\n",
        "\n",
        "for i in range(len(array)):\n",
        "    count[array[i]] += 1 # 각 데이터에 해당하는 인덱스의 값 증가\n",
        "\n",
        "for i in range(len(count)): # 리스트에 기록된 정렬 정보 확인\n",
        "    for j in range(count[i]):\n",
        "        print(i, end=' ') # 띄어쓰기를 구분으로 등장한 횟수만큼 인덱스 출력"
      ],
      "execution_count": 1,
      "outputs": [
        {
          "output_type": "stream",
          "text": [
            "0 0 1 1 2 2 3 4 5 5 6 7 8 9 9 "
          ],
          "name": "stdout"
        }
      ]
    },
    {
      "cell_type": "markdown",
      "metadata": {
        "id": "wvCQqYeOU3Xm"
      },
      "source": [
        "### 계수 정렬의 시간 복잡도\n",
        "\n",
        " 데이터의 개수가 N, 데이터 중 최댓값이 K일 때, 계수 정렬은 최악의 경우에도 수행시간 `O(N + K)`를 보장\n",
        "\n",
        " 계수 정렬은 앞에서부터 데이터를 하나씩 확인하면서 리스트에서 적절한 인덱스의 값을 1씩 증가시킬 뿐만 아니라, 추후에 리스트의 각 인덱스에 해당하는 값들을 확인할 때 데이터 중 최댓값의 크기만큼 반복을 수행해야 하기 때문이다.\n",
        "\n",
        " 따라서 데이터의 범위만 한정되어 있다면 효과적으로 사용할 수 있으며 항상 빠르게 동작한다.\n"
      ]
    },
    {
      "cell_type": "markdown",
      "metadata": {
        "id": "v8WrCO7aVW_G"
      },
      "source": [
        "### 계수 정렬의 공간 복잡도\n",
        "\n",
        "계수 정렬의 공간 복잡도는 `O(N + K)`이다.\n",
        "계수 정렬은 때에 따라서 심각한 비효율성을 초래할 수 있다. 예를 들어 데이터가 0과 999,999, 단 2개만 존재한다고 가정하면 이럴 때에도 리스트의 크기가 100만 개가 되도록 선언해야 한다. 따라서 항상 사용할 수 있는 정렬 알고리즘은 아니며, 동일한 값을 가지는 데이터가 여러 개 등장할 때 적합하다.\n",
        "\n"
      ]
    },
    {
      "cell_type": "markdown",
      "metadata": {
        "id": "f0ZyMz4Mbobb"
      },
      "source": [
        "\n",
        "## 파이썬의 정렬 라이브러리\n",
        "\n",
        "파이썬은 기본 정렬 라이브러리인 sorted() 함수를 제공한다. sorted()는 퀵 정렬과 동작 방식이 비슷한 병합 정렬을 기반으로 만들어졌는데, 병합 정렬은 일반적으로 퀵 정렬보다 느리지만 최악의 경우에도 시간 복잡도 `O(NlogN)을 보장한다는 특징이 있다\n",
        "\n",
        "* 대부분의 프로그래밍 언어에서 제공하는 표준 라이브러리의 기본 정렬 함수는 병합 정렬 혹은 퀵 정렬에 기반한다. 퀵 정렬에 기반하는 경우에도 O(NlogN)을 보장하도록 구현되어 있다."
      ]
    },
    {
      "cell_type": "code",
      "metadata": {
        "colab": {
          "base_uri": "https://localhost:8080/"
        },
        "id": "bBEfnVQvbsux",
        "outputId": "96661ce1-e6d6-4202-d6ad-b684600642f5"
      },
      "source": [
        "array = [7, 5, 9, 0, 3, 1, 6, 2, 4, 8]\n",
        "\n",
        "result = sorted(array)\n",
        "print(result)"
      ],
      "execution_count": null,
      "outputs": [
        {
          "output_type": "stream",
          "text": [
            "[0, 1, 2, 3, 4, 5, 6, 7, 8, 9]\n"
          ],
          "name": "stdout"
        }
      ]
    },
    {
      "cell_type": "code",
      "metadata": {
        "colab": {
          "base_uri": "https://localhost:8080/"
        },
        "id": "nT6xcdRXccPT",
        "outputId": "14164b55-6674-4a2b-f884-f773084bda2a"
      },
      "source": [
        "array = [7, 5, 9, 0, 3, 1, 6, 2, 4, 8]\n",
        "\n",
        "array.sort()\n",
        "print(array)"
      ],
      "execution_count": null,
      "outputs": [
        {
          "output_type": "stream",
          "text": [
            "[0, 1, 2, 3, 4, 5, 6, 7, 8, 9]\n"
          ],
          "name": "stdout"
        }
      ]
    },
    {
      "cell_type": "code",
      "metadata": {
        "colab": {
          "base_uri": "https://localhost:8080/"
        },
        "id": "EfhR0xdbckKX",
        "outputId": "6ad9b0a8-2f4b-4c59-ef09-be50b08d89a4"
      },
      "source": [
        "array = [('바나나', 2), ('사과', 5), ('당근', 3)]\n",
        "\n",
        "def setting(data):\n",
        "    return data[1]\n",
        "\n",
        "result = sorted(array, key = setting)\n",
        "print(result)"
      ],
      "execution_count": null,
      "outputs": [
        {
          "output_type": "stream",
          "text": [
            "[('바나나', 2), ('당근', 3), ('사과', 5)]\n"
          ],
          "name": "stdout"
        }
      ]
    }
  ]
}