{
  "nbformat": 4,
  "nbformat_minor": 0,
  "metadata": {
    "colab": {
      "name": "탐색 알고리즘 DFS/BFS.ipynb",
      "provenance": [],
      "authorship_tag": "ABX9TyNacaCNgjsy+ZaSDTcLHIug",
      "include_colab_link": true
    },
    "kernelspec": {
      "name": "python3",
      "display_name": "Python 3"
    },
    "language_info": {
      "name": "python"
    }
  },
  "cells": [
    {
      "cell_type": "markdown",
      "metadata": {
        "id": "view-in-github",
        "colab_type": "text"
      },
      "source": [
        "<a href=\"https://colab.research.google.com/github/malaheaven/This-is-coding-test/blob/study5/robin/part_02/%ED%83%90%EC%83%89_%EC%95%8C%EA%B3%A0%EB%A6%AC%EC%A6%98_DFS_BFS.ipynb\" target=\"_parent\"><img src=\"https://colab.research.google.com/assets/colab-badge.svg\" alt=\"Open In Colab\"/></a>"
      ]
    },
    {
      "cell_type": "markdown",
      "metadata": {
        "id": "WIbJKOzltuyz"
      },
      "source": [
        "출처 - 이것이 코딩테스트다(한빛미디어, 나동빈)\n",
        "\n",
        "# DFS/BFS\n",
        "\n",
        "### 그래프\n",
        "그래프는 노드(node)와 간선(edge)으로 표현되며, 이때 노드를 정점이라고도 말한다. 그래프 탐색이란 하나의 노드를 시작으로 다수의 노드를 방문하는 것을 말한다. 또한 두 노드가 간선으로 연결되어 있다면 '두 노드는 인접하다(adjacent)'라고 표현한다.\n",
        "\n",
        "### 프로그래밍에서 그래프는 2가지 방식으로 표현할 수 있다\n",
        "1. 인접 행렬(Adjacency Matrix): 2차원 배열로 그래프의 연결 관계를 표현하는 방식\n",
        "2. 인접 리스트(Adjacency List): 리스트로 그래프의 연결 관계를 표현하는 방식"
      ]
    },
    {
      "cell_type": "markdown",
      "metadata": {
        "id": "2VylVRx_x_q3"
      },
      "source": [
        "### 인접 행렬(Adjancy Matrix)\n",
        "\n",
        "2차원 배열에 각 노드가 연결된 형태를 기록하는 방식이다."
      ]
    },
    {
      "cell_type": "code",
      "metadata": {
        "colab": {
          "base_uri": "https://localhost:8080/"
        },
        "id": "raMk7kefzEUd",
        "outputId": "cdb3d1eb-fbb3-4934-b5c9-147397e3d3fc"
      },
      "source": [
        "INF = 999999999 # 무한의 비용 선언 (연결이 되어 있지 않은 노드끼리는 무한의 비용이라고 작성한다. 코드에서 999999999 또는 987654321등의 값으로 초기화하는 경우가 많다.)\n",
        "\n",
        "#2차원 리스트를 이용해 인접 행렬 표현\n",
        "graph = [\n",
        "         [0, 7, 5],\n",
        "         [7, 0, INF],\n",
        "         [5, INF, 0]\n",
        "]\n",
        "\n",
        "print(graph)"
      ],
      "execution_count": 1,
      "outputs": [
        {
          "output_type": "stream",
          "text": [
            "[[0, 7, 5], [7, 0, 999999999], [5, 999999999, 0]]\n"
          ],
          "name": "stdout"
        }
      ]
    },
    {
      "cell_type": "markdown",
      "metadata": {
        "id": "WVki8gL6zkiK"
      },
      "source": [
        "### 인접 리스트(Adjancency List)\n",
        "인접 리스트 방식에서는 모든 노드에 연결된 노드에 대한 정보를 차례대로 연결하여 저장한다.\n",
        "파이썬으로 인접 리스트를 이용해 그래프를 표현하고자 할 때에도 단순히 2차원 리스트를 이용하면 된다는 점만 기억하자."
      ]
    },
    {
      "cell_type": "code",
      "metadata": {
        "colab": {
          "base_uri": "https://localhost:8080/"
        },
        "id": "ZRoOt2in0WGk",
        "outputId": "1a1ba1e9-438c-47a6-fb76-b593e6caaf5e"
      },
      "source": [
        "# 행(Row)이 3개인 2차원 리스트로 인접 리스트 표현\n",
        "graph = [[] for _ in range(3)]\n",
        "\n",
        "#노드 0에 연결된 노드 정보 저장(노드, 거리)\n",
        "graph[0].append((1,7))\n",
        "graph[0].append((2,5))\n",
        "\n",
        "\n",
        "#노드 1에 연결된 노드 정보 저장(노드, 거리)\n",
        "graph[1].append((0,7))\n",
        "\n",
        "#노드 2에 연결된 노드 정보 저장(노드, 거리)\n",
        "graph[2].append((0,5))\n",
        "\n",
        "print(graph)"
      ],
      "execution_count": 2,
      "outputs": [
        {
          "output_type": "stream",
          "text": [
            "[[(1, 7), (2, 5)], [(0, 7)], [(0, 5)]]\n"
          ],
          "name": "stdout"
        }
      ]
    },
    {
      "cell_type": "markdown",
      "metadata": {
        "id": "IekRb7po08bA"
      },
      "source": [
        "### 인접 행렬과 인접 리스트의 차이점\n",
        "\n",
        "인접 행렬 방식은 모든 관계를 저장하므로 녿 개수가 많을 수록 메모리가 불필요하게 낭비된다. 반면에 인접 리스트 방식은 연결된 정보만을 저장하기 때문에 메모리를 효율적으로 사용한다. \n",
        "<br>\n",
        "<br>\n",
        "하지만 이와 같은 속성 때문에 인접 리스트 방식은 인접 행렬 방식에 비해 특정한 두 노드가 연결되어 있는지에 대한 정보를 얻는 속도가 느리다. 인접 리스트 방식에서는 연결된 데이터를 하나씩 확인해야 하기 때문이다.\n",
        "<br>\n",
        "<br>\n",
        "예를 들어 노드 1과 노드 7이 연결되어 있는지 확인해보자. 인접 행렬 방식에서는 `graph[1][7]`만 확인하면 된다. 반면에 인접 리스트 방식에서는 노드 1에 대한 인접 리스트를 앞에서부터 차례대로 확인해야 한다.\n",
        "<br>\n",
        "<br>\n",
        "특정한 노드와 연결된 모든 인접 노드를 순회해야 하는 경우, 인접 리스트 방식이 인접 행렬 방식에 비해 메모리 공간의 낭비가 적다\n"
      ]
    },
    {
      "cell_type": "markdown",
      "metadata": {
        "id": "EDNrtPl32lxh"
      },
      "source": [
        "### DFS(Depth-First Search)\n",
        "\n",
        "깊이 우선 탐색이라고도 부르며, 그래프에서 깊은 부분을 우선적으로 탐색하는 알고리즘이다.\n",
        "\n",
        "이 아로리즘은 특정한 경로로 탐색하다가 특정한 상황에서 최대한 깊숙이 들어가서 노드를 방문한 후, 다시 돌아가 다른 경로로 탐색하는 알고리즘이다.\n",
        "<br>\n",
        "<br>\n",
        "<br>\n",
        "\n",
        "\n",
        "### DFS는 스택 자료구조를 이용하여 구체적인 동작 과정은 다음과 같다.\n",
        "1. 탐색 시작 노드를 스택에 삽입하고 방문 처리를 한다.\n",
        "2. 스택의 최상단 노드에 방문하지 않은 인접 노드가 있으면 그 인접 노드를 스택에 넣고 방문 처리를 한다.\n",
        "방문하지 않은 인접 노드가 없으면 스택에서 최상단 노드를 꺼낸다.\n",
        "3. 2번의 과정을 더 이상 수행할 수 없을 때까지 반복한다.\n",
        "\n"
      ]
    },
    {
      "cell_type": "code",
      "metadata": {
        "colab": {
          "base_uri": "https://localhost:8080/"
        },
        "id": "tHrV1wM65hW3",
        "outputId": "06efb929-b255-454e-a040-8e8bfe4367ff"
      },
      "source": [
        "#DFS 메서드 정의\n",
        "\n",
        "def dfs(graph, v, visited):\n",
        "\n",
        "    #현재 노드를 방문 처리\n",
        "    visited[v] = True\n",
        "    print(v, end = ' ')\n",
        "\n",
        "    #현재 노드와 연결된 다른 노드를 재귀적으로 방문\n",
        "    for i in graph[v]:\n",
        "\n",
        "        if not visited[i]:\n",
        "            dfs(graph, i, visited)\n",
        "\n",
        "\n",
        "\n",
        "#각 노드가 연결된 정보를 리스트 자료형으로 표현(2차원 리스트)\n",
        "graph = [\n",
        "         [],\n",
        "         [2, 3, 8],\n",
        "         [1, 7],\n",
        "         [1, 4, 5],\n",
        "         [3, 5],\n",
        "         [3, 4],\n",
        "         [7],\n",
        "         [2, 6, 8],\n",
        "         [1, 7]\n",
        "]\n",
        "\n",
        "#각 노드가 방문된 정보를 리스트 자료형으로 표현(1차원 리스트)\n",
        "visited = [False] * 9\n",
        "\n",
        "# 정의된 BFS 함수 호출\n",
        "print(dfs(graph, 1, visited))"
      ],
      "execution_count": 4,
      "outputs": [
        {
          "output_type": "stream",
          "text": [
            "1 2 7 6 8 3 4 5 None\n"
          ],
          "name": "stdout"
        }
      ]
    },
    {
      "cell_type": "markdown",
      "metadata": {
        "id": "y5mTzP5A8jXz"
      },
      "source": [
        "### BFS(Breadth First Search)\n",
        "\n",
        "너비 우선 탐색이라는 의미를 가진다. 쉽게 말해 가까운 노드부터 탐색하는 알고리즘이다. BFS 구현에서는 선입선출 방식인 큐 자료구조를 이용하는 것이 정석이다. 인접한 노드를 반복적으로 큐에 넣도록 알고리즘을 작성하면 자연스럽게 먼저 들어온 것이 먼저 나가게 되어, 가까운 노드부터 탐색을 진항하게 된다.\n",
        "\n",
        "<br>\n",
        "<br>\n",
        "\n",
        "### BFS 동작 방식\n",
        "\n",
        "1. 탐색 시작 노드를 큐에 삽입하고 방문 처리를 한다.\n",
        "2. 큐에서 노드를 꺼내 해당 노드의 인접 노드 중에서 방문하지 않은 노드를 모두 큐에 삽입하고 방문 처리를 한다.\n",
        "3. 2번의 과정을 더 이상 수행할 수 없을 때까지 반복한다.\n",
        "\n",
        "<br>\n",
        "<br>\n",
        "\n",
        "너비 우선 탐색 알고리즘인 BFS는 큐 자료구조에 기초한다는 점에서 구현이 간단하다. 실제로 구현함에 있어 앞서 언급한 대로 `deque` 라이브러리를 사용하는 것이 좋으며 탐색을 수행함에 있어 `O(N)`의 시간이 소요된다. 일반적인 경우 실제 수행시간은 DFS보다 좋은 편이라는 점까지만 추가로 기억하자"
      ]
    },
    {
      "cell_type": "code",
      "metadata": {
        "colab": {
          "base_uri": "https://localhost:8080/"
        },
        "id": "-Tt_vttGFwSv",
        "outputId": "beb8362f-eff2-4c38-e2b2-4bcf2b083564"
      },
      "source": [
        "from collections import deque\n",
        "\n",
        "#BFS 메서드 정의\n",
        "def bfs(graph, start, visited):\n",
        "\n",
        "    # 큐(Queue) 구현을 위해 deque 라이브러리 사용\n",
        "    queue = deque([start])\n",
        "\n",
        "    #현재 노드를 방문 처리\n",
        "    visited[start] = True\n",
        "\n",
        "    #큐가 빌 때까지 반복\n",
        "    while queue:\n",
        "\n",
        "        #큐에서 하나의 원소를 뽑아 출력\n",
        "        v = queue.popleft()\n",
        "        print(v, end = ' ')\n",
        "\n",
        "        #해당 원소와 연결된, 아직 방문하지 않은 원소들을 큐에 삽입\n",
        "        for i in graph[v]:\n",
        "            if not visited[i]:\n",
        "                queue.append(i)\n",
        "                visited[i] = True\n",
        "\n",
        "\n",
        "\n",
        "\n",
        "\n",
        "#각 노드가 연결된 정보를 리스트 자료형으로 표현(2차원 리스트)\n",
        "graph = [\n",
        "         [],\n",
        "         [2, 3, 8],\n",
        "         [1, 7],\n",
        "         [1, 4, 5],\n",
        "         [3, 5],\n",
        "         [3, 4],\n",
        "         [7],\n",
        "         [2, 6, 8],\n",
        "         [1, 7]\n",
        "]\n",
        "\n",
        "visited = [False] * 9\n",
        "\n",
        "print(bfs(graph, 1, visited))"
      ],
      "execution_count": 6,
      "outputs": [
        {
          "output_type": "stream",
          "text": [
            "1 2 3 8 7 4 5 6 None\n"
          ],
          "name": "stdout"
        }
      ]
    }
  ]
}