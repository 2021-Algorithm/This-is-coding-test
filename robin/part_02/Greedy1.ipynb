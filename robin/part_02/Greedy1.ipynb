{
  "nbformat": 4,
  "nbformat_minor": 0,
  "metadata": {
    "colab": {
      "name": "Greedy1.ipynb",
      "provenance": [],
      "collapsed_sections": [],
      "toc_visible": true,
      "authorship_tag": "ABX9TyNIhgdafl/OEkdKzbPshNCw"
    },
    "kernelspec": {
      "name": "python3",
      "display_name": "Python 3"
    },
    "language_info": {
      "name": "python"
    }
  },
  "cells": [
    {
      "cell_type": "markdown",
      "metadata": {
        "id": "of15cio_Xxhw"
      },
      "source": [
        "출처: 이것이 코딩 테스드다 (한빛 미디어, 나동빈)\n",
        "# 그리디\n",
        "\n",
        "**현재 상황에서 지금 당장 좋은 것만 고르는 방법**이다. 그리디 알고리즘은 `탐욕법`으로도 불린다.\n",
        "\n",
        "그리디 알고리즘은 기준에 따라 좋은 것을 선택하는 알고리즘이므로 문제에서 '가장 큰 순서대로', '가장 작은 순서대로'와 같은 기준을 알게 모르게 제시해준다. 대체로 이 기준은 정렬 알고리즘을 사용했을 때 만족시킬 수 있으므로 그리디 알고리즘 문제는 자주 정렬 알고리즘과 짝을 이뤄 출제된다.\n",
        "\n"
      ]
    },
    {
      "cell_type": "markdown",
      "metadata": {
        "id": "NtbA96hVaTz5"
      },
      "source": [
        "## [예제 3-1] 거스름돈\n",
        "\n",
        "당신은 음식점의 계산을 도와주는 점원이다. 카운터에는 거스름돈으로 사용할 500원, 100원, 50원, 10원짜리 동전이 무한히 존재한다고 가정한다. 손님에게 거슬러 줘야할 돈이 N원일 때 거슬러 줘야 할 동전의 최소 개수를 구하라. 단, 거슬러 줘야 할 돈 N은 항상 10의 배수이다.\n",
        "\n",
        "문제 해결 방법: `가장 큰 화폐 단위부터 돈을 거슬러 주는 것`\n",
        "<br>\n",
        "<br>\n",
        "<br>\n",
        "<br>\n",
        "예: N이 1,260원이면 500원 2개, 100원 2개, 50원 1개 ,10원 1개 = 총 6개의 최소동전 필요"
      ]
    },
    {
      "cell_type": "markdown",
      "metadata": {
        "id": "zmY_1gamhr2E"
      },
      "source": [
        "###### 내가 생각한 답\n"
      ]
    },
    {
      "cell_type": "code",
      "metadata": {
        "id": "QaNk6OSWYlMC",
        "colab": {
          "base_uri": "https://localhost:8080/"
        },
        "outputId": "4ae908a4-b079-4703-ca59-b4df13f7d28d"
      },
      "source": [
        "def solution(n):\n",
        "    mok_500, remain_500 = divmod(N, 500)\n",
        "    mok_100, remain_100 = divmod(remain_500, 100)\n",
        "    mok_50, remain_50 = divmod(remain_100, 50)\n",
        "    mok_10, remain_10 = divmod(remain_50, 10)\n",
        "    \n",
        "    return sum([mok_500, mok_100, mok_50, mok_10])\n",
        "\n",
        "print(solution(1260))"
      ],
      "execution_count": null,
      "outputs": [
        {
          "output_type": "stream",
          "text": [
            "6\n"
          ],
          "name": "stdout"
        }
      ]
    },
    {
      "cell_type": "markdown",
      "metadata": {
        "id": "2vAkl3VTh7EL"
      },
      "source": [
        "###### 답안 예시"
      ]
    },
    {
      "cell_type": "code",
      "metadata": {
        "colab": {
          "base_uri": "https://localhost:8080/"
        },
        "id": "0wPccSFxiYFS",
        "outputId": "b8c74a43-b034-4da7-d9c9-8c130af0eaf9"
      },
      "source": [
        "n = 1260\n",
        "count = 0\n",
        "\n",
        "coin_types = [500, 100, 50, 10]\n",
        "\n",
        "for coin in coin_types:\n",
        "    count += n // coin\n",
        "    n %= coin\n",
        "\n",
        "print(count)"
      ],
      "execution_count": null,
      "outputs": [
        {
          "output_type": "stream",
          "text": [
            "6\n"
          ],
          "name": "stdout"
        }
      ]
    },
    {
      "cell_type": "markdown",
      "metadata": {
        "id": "X7e4FrrOicCZ"
      },
      "source": [
        "해당 답의 시간 복잡도는 O(N)이다. 이 알고리즘의 시간 복잡도는 동전의 총 종류에만 영향을 받고, 거슬러 줘야하는 금액의 크기와는 무관하다는 것을 알 수 있다."
      ]
    },
    {
      "cell_type": "markdown",
      "metadata": {
        "id": "N1U9Oz1Xkm4c"
      },
      "source": [
        "## [실전문제] 큰 수의 법칙\n",
        "\n",
        "list = [2,4,5,4,6]\n",
        "\n",
        "m = 8\n",
        "\n",
        "k = 3\n",
        "\n",
        "result = 46      #6+6+6+5+6+6+6+5\n",
        "\n",
        "다양한 수로 이루어진 배열이 있을 때 주어진 수들을 M번 더하여 가장 큰 수를 만드는 법칙이다. 단, 배열의 특정한 인덱스(번호)에 해당하는 수가 연속해서 K번을 초과하여 더해질 수 없는 것이 이 법칙의 특징이다.\n",
        "\n"
      ]
    },
    {
      "cell_type": "markdown",
      "metadata": {
        "id": "ErYs2jTWupyG"
      },
      "source": [
        "###### 내가 생각한 답\n",
        "\n",
        "풀이 방법: 먼저 리스트를 가장 작은 값부터 큰 값이 무엇인지 알수 있도록 나열하기 위해 sorting 해준 다음, K의 기점으로 맨 끝에 숫자(가장 큰 값)랑 맨 끝에서 두번째(가장 큰 값에서 다음 값)을 서로 왔다갔다 해서 더해줄것이라 생각했다. 그래서 K값을 넘었는지, 아닌지 확인하기 위해 idx_count로 해당 숫자 값을 몇 번 사용했는지 확인을 해준다.\n",
        "\n"
      ]
    },
    {
      "cell_type": "code",
      "metadata": {
        "colab": {
          "base_uri": "https://localhost:8080/"
        },
        "id": "io8KAL1xl_gV",
        "outputId": "4c5b0587-e035-4b79-88fa-35c23fe8d895"
      },
      "source": [
        "def solution(n, m, k):\n",
        "    answer = 0\n",
        "    ls = sorted(map(int, list(n.split(\" \"))))\n",
        "\n",
        "    idx_count = 0\n",
        "\n",
        "    for i in range(m):\n",
        "        if idx_count < k:\n",
        "            answer += ls[-1]\n",
        "            idx_count += 1\n",
        "        else:\n",
        "            answer += ls[-2]\n",
        "            idx_count = 0\n",
        "\n",
        "    return answer\n",
        "\n",
        "if __name__ == '__main__':\n",
        "    print(solution(\"2 4 5 4 6\", 8, 3))"
      ],
      "execution_count": null,
      "outputs": [
        {
          "output_type": "stream",
          "text": [
            "46\n"
          ],
          "name": "stdout"
        }
      ]
    },
    {
      "cell_type": "markdown",
      "metadata": {
        "id": "i8nfPcVi3jZz"
      },
      "source": [
        "###### 단순하게 푸는 답안 예시"
      ]
    },
    {
      "cell_type": "code",
      "metadata": {
        "colab": {
          "base_uri": "https://localhost:8080/"
        },
        "id": "kQ_XOAmb1KzO",
        "outputId": "4a15fef7-d905-4462-a8ec-99c82cfbe876"
      },
      "source": [
        "#N, M, K를 공백으로 구분하여 입력받기\n",
        "n, m, k = map(int, \"5 8 3\".split())\n",
        "\n",
        "#N개의 수를 공백으로 구분하여 입력받기\n",
        "data = list(map(int, \"2 4 5 4 6\".split()))\n",
        "\n",
        "data.sort() # 입력받은 수들 정렬하기\n",
        "first = data[n -1]\n",
        "second = data[n -2]\n",
        "\n",
        "result = 0\n",
        "\n",
        "while True:\n",
        "    for i in range(k): # 가장 큰 수를 K번 더하기\n",
        "        if m == 0: # m이 0이라면 반복문 탈출\n",
        "            break\n",
        "        result += first\n",
        "        m -= 1\n",
        "    if m == 0:  #m이 0이라면 반복문 탈출\n",
        "        break\n",
        "    result += second #두 번째로 큰 수를 한 번 더하기\n",
        "    m -= 1\n",
        "\n",
        "print(\"result = \", result)"
      ],
      "execution_count": null,
      "outputs": [
        {
          "output_type": "stream",
          "text": [
            "result =  46\n"
          ],
          "name": "stdout"
        }
      ]
    },
    {
      "cell_type": "markdown",
      "metadata": {
        "id": "-uR4eQRY3qBs"
      },
      "source": [
        "###### 답안 예시\n",
        "\n",
        "수열을 이용한 방법 (반복이 된다) \n",
        "\n",
        "식 int( M/ (K + 1)) * K + M % (K + 1)"
      ]
    },
    {
      "cell_type": "code",
      "metadata": {
        "colab": {
          "base_uri": "https://localhost:8080/"
        },
        "id": "nTYY0uvX8EyR",
        "outputId": "fcc3aa20-3b89-4ed7-8910-28f812e76fab"
      },
      "source": [
        "n, m, k = map(int, \"5 7 3\".split())\n",
        "\n",
        "#N개의 수를 공백으로 구분하여 입력받기\n",
        "data = list(map(int, \"2 4 5 4 6\".split()))\n",
        "\n",
        "data.sort() # 입력받은 수들 정렬하기\n",
        "first = data[n -1]\n",
        "second = data[n -2]\n",
        "\n",
        "# 가장 큰 수가 더해지는 횟수 계산\n",
        "count = int(m / (k + 1)) * k\n",
        "count += m % (k + 1)\n",
        "\n",
        "result = 0\n",
        "result += (count) * first #가장 큰 수 더하기\n",
        "result += (m - count) * second # 두 번째로 큰 수 더하기\n",
        "\n",
        "print(\"result = \", result)\n"
      ],
      "execution_count": null,
      "outputs": [
        {
          "output_type": "stream",
          "text": [
            "result =  41\n"
          ],
          "name": "stdout"
        }
      ]
    }
  ]
}