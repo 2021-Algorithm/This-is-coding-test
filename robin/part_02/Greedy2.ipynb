{
  "nbformat": 4,
  "nbformat_minor": 0,
  "metadata": {
    "colab": {
      "name": "Greedy2.ipynb",
      "provenance": [],
      "collapsed_sections": [],
      "authorship_tag": "ABX9TyOomC8pPJ+kogGnd4iHAsfB",
      "include_colab_link": true
    },
    "kernelspec": {
      "name": "python3",
      "display_name": "Python 3"
    },
    "language_info": {
      "name": "python"
    }
  },
  "cells": [
    {
      "cell_type": "markdown",
      "metadata": {
        "id": "view-in-github",
        "colab_type": "text"
      },
      "source": [
        "<a href=\"https://colab.research.google.com/github/malaheaven/This-is-coding-test/blob/study2/robin/part_02/Greedy2.ipynb\" target=\"_parent\"><img src=\"https://colab.research.google.com/assets/colab-badge.svg\" alt=\"Open In Colab\"/></a>"
      ]
    },
    {
      "cell_type": "markdown",
      "metadata": {
        "id": "gWDhvQSsYu78"
      },
      "source": [
        "출처 - 이것이 코딩 테스트다(한빛미디어, 나동빈)\n",
        "\n",
        "## [실전 문제] 숫자카드 게임\n",
        "\n",
        "1. 숫자가 쓰인 카드들이 N * M 형태로 놓여 있다. 이때 N은 행의 개수를 의미하며, M은 열의 개수를 의미한다.\n",
        "\n",
        "2. 먼저 뽑고자 하는 카드가 포함되어 있는 행을 선택한다.\n",
        "\n",
        "3. 그다음 선택된 행에 포함된 카드들 중 가장 낮은 카드를 뽑아야한다.\n",
        "\n",
        "4. 따라서 처음에 카드를 골라낼 행을 선택할 때, 이후에 해당 행에서 가장 숫자가 낮은 카드를 뽑을 것을 고려하여 최종적으로 가장 높은 숫자의 카드를 뽑을 수 있도록 전략을 세워야 한다.\n",
        "\n",
        "입력 예시:\n",
        "\n",
        "3 3\n",
        "\n",
        "3 1 2\n",
        "\n",
        "4 1 4\n",
        "\n",
        "2 2 2\n",
        "\n",
        "result = 2"
      ]
    },
    {
      "cell_type": "markdown",
      "metadata": {
        "id": "nnAsGgAsbcsc"
      },
      "source": [
        "###### 내가 생각한 답"
      ]
    },
    {
      "cell_type": "code",
      "metadata": {
        "colab": {
          "base_uri": "https://localhost:8080/"
        },
        "id": "4U2YcXqlbZgt",
        "outputId": "10c43696-df1a-4cc0-c023-8512fdc04520"
      },
      "source": [
        "n, m = map(int, input().split())\n",
        "result = []\n",
        "for i in range(n):\n",
        "    card = map(int, input().split())\n",
        "    min_val = min(card)\n",
        "    result.append(min_val)\n",
        "\n",
        "print(max(result))"
      ],
      "execution_count": 11,
      "outputs": [
        {
          "output_type": "stream",
          "text": [
            "3 3\n",
            "3 1 2\n",
            "4 1 4\n",
            "2 2 2 \n",
            "2\n"
          ],
          "name": "stdout"
        }
      ]
    },
    {
      "cell_type": "markdown",
      "metadata": {
        "id": "Q57uuivOboT0"
      },
      "source": [
        "###### py min() 함수를 이용하는 답안 예시"
      ]
    },
    {
      "cell_type": "code",
      "metadata": {
        "colab": {
          "base_uri": "https://localhost:8080/"
        },
        "id": "ncuExlPUbotj",
        "outputId": "da2a85f9-bc35-48a3-8a72-1a9f65f450eb"
      },
      "source": [
        "n, m = map(int, input().split())\n",
        "\n",
        "result = 0\n",
        "#한 줄 씩 입력받아 확인\n",
        "\n",
        "for i in range(n):\n",
        "    data = list(map(int, input().split()))\n",
        "    \n",
        "    #현재 줄에서 '가장 작은 수' 찾기\n",
        "    min_value = min(data)\n",
        "    #'가장 작은 수'들 중에서 가장 큰 수 찾기\n",
        "    result = max(result, min_value)\n",
        "\n",
        "print(result) #최종 답안 출력"
      ],
      "execution_count": 12,
      "outputs": [
        {
          "output_type": "stream",
          "text": [
            "3 3\n",
            "3 1 2\n",
            "4 1 4\n",
            "2 2 2\n",
            "2\n"
          ],
          "name": "stdout"
        }
      ]
    },
    {
      "cell_type": "markdown",
      "metadata": {
        "id": "cP4-9kyebv_R"
      },
      "source": [
        "###### py 2중 반복문 구조를 이용하는 답안 예시"
      ]
    },
    {
      "cell_type": "code",
      "metadata": {
        "colab": {
          "base_uri": "https://localhost:8080/"
        },
        "id": "elrPzOUNcRvX",
        "outputId": "3af33b1e-7577-4de4-f3f4-34844efbe470"
      },
      "source": [
        "# N, M을 공백을 기준으로 구분하여 입력 받기\n",
        "n, m = map(int, input().split())\n",
        "\n",
        "result = 0\n",
        "# 한 줄씩 입력 받아 확인하기\n",
        "for i in range(n):\n",
        "    data = list(map(int, input().split()))\n",
        "    # 현재 줄에서 '가장 작은 수' 찾기\n",
        "    min_value = 10001\n",
        "    for a in data:\n",
        "        min_value = min(min_value, a)\n",
        "    # '가장 작은 수'들 중에서 가장 큰 수 찾기\n",
        "    result = max(result, min_value)\n",
        "\n",
        "print(result) # 최종 답안 출력"
      ],
      "execution_count": 4,
      "outputs": [
        {
          "output_type": "stream",
          "text": [
            "3 3\n",
            "3 1 2\n",
            "4 1 4\n",
            "2 2 2\n",
            "2\n"
          ],
          "name": "stdout"
        }
      ]
    },
    {
      "cell_type": "markdown",
      "metadata": {
        "id": "T8Oe0aBMa-9C"
      },
      "source": [
        "## 1이 될 때까지\n",
        "\n",
        "어떠한 수 N이 1이 될 때까지 다음의 두 과정 중 하나를 반복적으로 선택하여 수행하려고 한다.\n",
        "단, 두번째 연산은 N이 K로 나누어떨어질 때만 선택할 수 있다.\n",
        "\n",
        "1. N에서 1을 뺀다.\n",
        "\n",
        "2. N을 K로 나눈다.\n",
        "\n",
        "입력 예시:\n",
        "\n",
        "25 5\n",
        "\n",
        "result = 2 "
      ]
    },
    {
      "cell_type": "markdown",
      "metadata": {
        "id": "XooCThk-bYa9"
      },
      "source": [
        "###### 내가 생각한 답"
      ]
    },
    {
      "cell_type": "code",
      "metadata": {
        "colab": {
          "base_uri": "https://localhost:8080/"
        },
        "id": "9N6BwhPHb6ca",
        "outputId": "a03c87f4-ade7-47e1-d65c-6cdf0b1af88d"
      },
      "source": [
        "n, k = map(int, input().split())\n",
        "\n",
        "count = 0\n",
        "\n",
        "while n != 1:\n",
        "\n",
        "    while n % k != 0:\n",
        "        n -= 1\n",
        "        count += 1\n",
        "\n",
        "    n = n // k\n",
        "    count += 1\n",
        "\n",
        "print(count)"
      ],
      "execution_count": 16,
      "outputs": [
        {
          "output_type": "stream",
          "text": [
            "17 4\n",
            "3\n"
          ],
          "name": "stdout"
        }
      ]
    },
    {
      "cell_type": "markdown",
      "metadata": {
        "id": "A3OS3cgHb620"
      },
      "source": [
        "###### 단순하게 푸는 답안 예시"
      ]
    },
    {
      "cell_type": "code",
      "metadata": {
        "colab": {
          "base_uri": "https://localhost:8080/"
        },
        "id": "Y_qHvhrDrWRV",
        "outputId": "3b88437a-bb53-443b-f9e0-fb4726736594"
      },
      "source": [
        "n, k = map(int,input().split())\n",
        "result = 0\n",
        "\n",
        "while n >= k:\n",
        "    # N이 K 이상이라면 K로 계속 나누기\n",
        "\n",
        "    while n % k != 0:\n",
        "        n -= 1\n",
        "        result += 1\n",
        "    \n",
        "    #k로 나누기\n",
        "    n //= k\n",
        "    result += 1\n",
        "\n",
        "\n",
        "#마지막으로 남은 수에 대하여 1씩 빼기\n",
        "while n > 1:\n",
        "    n-= 1\n",
        "    result += 1\n",
        "\n",
        "print(result)"
      ],
      "execution_count": 18,
      "outputs": [
        {
          "output_type": "stream",
          "text": [
            "25 5\n",
            "2\n"
          ],
          "name": "stdout"
        }
      ]
    },
    {
      "cell_type": "markdown",
      "metadata": {
        "id": "_Uc85T4Bb__X"
      },
      "source": [
        "###### 답안 예시"
      ]
    },
    {
      "cell_type": "code",
      "metadata": {
        "colab": {
          "base_uri": "https://localhost:8080/"
        },
        "id": "OXNzD7tEcDzF",
        "outputId": "8634aead-8b2c-4a8a-8847-20b2d9e6971e"
      },
      "source": [
        "# N, K공백을 기준으로 구분하여 입력 받기\n",
        "n, k = map(int, input().split())\n",
        "\n",
        "result = 0\n",
        "\n",
        "while True:\n",
        "    # N이 K로 나누어 떨어지는 수가 될 때까지만 1씩 빼기\n",
        "    target = (n // k) * k\n",
        "    result += (n - target)\n",
        "    n = target\n",
        "    # N이 K보다 작을 때 (더 이상 나눌 수 없을 때) 반복문 탈출\n",
        "    if n < k:\n",
        "        break\n",
        "    # K로 나누기\n",
        "    result += 1\n",
        "    n //= k\n",
        "\n",
        "# 마지막으로 남은 수에 대하여 1씩 빼기\n",
        "result += (n - 1)\n",
        "print(result)"
      ],
      "execution_count": 5,
      "outputs": [
        {
          "output_type": "stream",
          "text": [
            "25 5\n",
            "2\n"
          ],
          "name": "stdout"
        }
      ]
    }
  ]
}